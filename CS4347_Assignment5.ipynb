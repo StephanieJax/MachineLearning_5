{
  "nbformat": 4,
  "nbformat_minor": 0,
  "metadata": {
    "colab": {
      "name": "CS4347-Assignment5-s_j256.ipynb",
      "provenance": [],
      "collapsed_sections": [],
      "include_colab_link": true
    },
    "kernelspec": {
      "name": "python3",
      "display_name": "Python 3"
    }
  },
  "cells": [
    {
      "cell_type": "markdown",
      "metadata": {
        "id": "view-in-github",
        "colab_type": "text"
      },
      "source": [
        "<a href=\"https://colab.research.google.com/github/StephanieJax/MachineLearning_5/blob/main/CS4347_Assignment5.ipynb\" target=\"_parent\"><img src=\"https://colab.research.google.com/assets/colab-badge.svg\" alt=\"Open In Colab\"/></a>"
      ]
    },
    {
      "cell_type": "markdown",
      "metadata": {
        "id": "tIm5-VZegmum"
      },
      "source": [
        "# ASSIGNMENT 5 - INTRO TO MACHINE LEARNING | Model Selection, Model Regularization, Decision Tree, Bagging, Random Forest and Boosting\n",
        "\n",
        "\n",
        "> **FULL MARKS = 100**\n",
        "\n"
      ]
    },
    {
      "cell_type": "markdown",
      "metadata": {
        "id": "WfCsFDgxg4OQ"
      },
      "source": [
        "**Note:** To submit the assignment, please follow the same steps and in assignments 1, 2, 3, 4. \n",
        "\n",
        "In this assignment we will cover the following topics:\n",
        "\n",
        "1. **Model Selection | SCORE : 20**\n",
        "  \n",
        "  **1.1 Subset Feature Selection**\n",
        "      \n",
        "    References\n",
        "    > https://archive.ics.uci.edu/ml/datasets/Online+Video+Characteristics+and+Transcoding+Time+Dataset#\n",
        "\n",
        "  **1.2 Forward stepwise feature selection**\n",
        "      \n",
        "    References\n",
        "    > Please follow lecture ntoes\n",
        "\n",
        "2. **Model Regularization | SCORE : 20**\n",
        "  \n",
        "  **2.1 Ridge Regression - L2 Regularization**\n",
        "      \n",
        "    References\n",
        "    > https://scikit-learn.org/stable/modules/generated/sklearn.linear_model.RidgeCV.html\n",
        "\n",
        "  **2.2 Lasso Regression - L1 Regularization**\n",
        "      \n",
        "    References\n",
        "    > https://scikit-learn.org/stable/modules/generated/sklearn.linear_model.LassoCV.html\n",
        "\n",
        "3. **Decision Tree with KFold Cross Validation| SCORE : 30**\n",
        "      \n",
        "    References\n",
        "\n",
        "    > https://scikit-learn.org/stable/modules/generated/sklearn.model_selection.cross_val_score.html\n",
        "\n",
        "    > https://scikit-learn.org/stable/modules/generated/sklearn.tree.DecisionTreeRegressor.html#sklearn.tree.DecisionTreeRegressor\n",
        "      \n",
        "    > https://scikit-learn.org/stable/modules/generated/sklearn.tree.DecisionTreeClassifier.html#sklearn.tree.DecisionTreeClassifier\n",
        "\n",
        "\n",
        "4. **Decision Tree with Bagging | SCORE : 10**\n",
        "\n",
        "    References\n",
        "    > https://scikit-learn.org/stable/modules/generated/sklearn.ensemble.BaggingRegressor.html#sklearn.ensemble.BaggingRegressor\n",
        "\n",
        "    > https://scikit-learn.org/stable/modules/generated/sklearn.ensemble.BaggingClassifier.html#sklearn.ensemble.BaggingClassifier\n",
        "\n",
        "5. **Random Forest | SCORE : 10**\n",
        "      \n",
        "    References\n",
        "    > https://scikit-learn.org/stable/modules/generated/sklearn.ensemble.RandomForestRegressor.html#sklearn.ensemble.RandomForestRegressor\n",
        "\n",
        "    > https://scikit-learn.org/stable/modules/generated/sklearn.ensemble.RandomForestClassifier.html#sklearn.ensemble.RandomForestClassifier\n",
        "\n",
        "6. **Boosting | SCORE : 10**\n",
        "      \n",
        "    References\n",
        "    > https://scikit-learn.org/stable/modules/generated/sklearn.ensemble.GradientBoostingRegressor.html#sklearn.ensemble.GradientBoostingRegressor\n",
        "\n",
        "    > https://scikit-learn.org/stable/modules/generated/sklearn.ensemble.GradientBoostingClassifier.html#sklearn.ensemble.GradientBoostingClassifier"
      ]
    },
    {
      "cell_type": "markdown",
      "metadata": {
        "id": "N4kZT0_vi8Fe"
      },
      "source": [
        "\n",
        "### 1. Model Selection\n",
        "---\n",
        "\n",
        "\n",
        "\n",
        "---"
      ]
    },
    {
      "cell_type": "markdown",
      "metadata": {
        "id": "pY-vVWvwjs9n"
      },
      "source": [
        "***EXERCISE NO. 1.1*** **Score : 10** "
      ]
    },
    {
      "cell_type": "code",
      "metadata": {
        "id": "LojA0NWANf7E",
        "colab": {
          "base_uri": "https://localhost:8080/"
        },
        "outputId": "634172a7-692d-4a37-9449-f86d02ec4361"
      },
      "source": [
        "from sklearn.datasets import load_wine\n",
        "import pandas as pd\n",
        "\n",
        "#Load the data\n",
        "wine = load_wine()\n",
        "\n",
        "# Now create a pandas dataframe that uses feature_names as columns and wine data as values\n",
        "dffeature = pd.DataFrame(data = wine.data, columns = wine.feature_names)\n",
        "print(dffeature.head())\n",
        "# Now create a pandas dataframe that uses wine target as data and ['label'] as column\n",
        "dftarget = pd.DataFrame(data = wine.target, columns = ['label'])\n",
        "print(dftarget.head())\n",
        "# Now replace 0 with 0th value of wine.target_names, 1 with 1st value and so on in dftarget\n",
        "dftarget = dftarget.apply(lambda x:wine.target_names[x])\n",
        "print(dftarget.head())\n",
        "\n",
        "# Now concatenate dffeature and dftarget dataframe column wise and create new dataframe df, here pass sort=False\n",
        "df = pd.concat([dffeature,dftarget],axis = 1, sort = False)\n",
        "\n",
        "# Print the head of the data\n",
        "print(df.head())\n",
        "\n",
        "# Print the tail of the data\n",
        "print(df.tail())\n",
        " \n",
        "\n",
        "# See if there is na\n",
        "print(df.isna().sum().sum())\n",
        "\n",
        "# If there is na remove them\n",
        "df.dropna(inplace=True)"
      ],
      "execution_count": null,
      "outputs": [
        {
          "output_type": "stream",
          "text": [
            "   alcohol  malic_acid   ash  ...   hue  od280/od315_of_diluted_wines  proline\n",
            "0    14.23        1.71  2.43  ...  1.04                          3.92   1065.0\n",
            "1    13.20        1.78  2.14  ...  1.05                          3.40   1050.0\n",
            "2    13.16        2.36  2.67  ...  1.03                          3.17   1185.0\n",
            "3    14.37        1.95  2.50  ...  0.86                          3.45   1480.0\n",
            "4    13.24        2.59  2.87  ...  1.04                          2.93    735.0\n",
            "\n",
            "[5 rows x 13 columns]\n",
            "   label\n",
            "0      0\n",
            "1      0\n",
            "2      0\n",
            "3      0\n",
            "4      0\n",
            "     label\n",
            "0  class_0\n",
            "1  class_0\n",
            "2  class_0\n",
            "3  class_0\n",
            "4  class_0\n",
            "   alcohol  malic_acid   ash  ...  od280/od315_of_diluted_wines  proline    label\n",
            "0    14.23        1.71  2.43  ...                          3.92   1065.0  class_0\n",
            "1    13.20        1.78  2.14  ...                          3.40   1050.0  class_0\n",
            "2    13.16        2.36  2.67  ...                          3.17   1185.0  class_0\n",
            "3    14.37        1.95  2.50  ...                          3.45   1480.0  class_0\n",
            "4    13.24        2.59  2.87  ...                          2.93    735.0  class_0\n",
            "\n",
            "[5 rows x 14 columns]\n",
            "     alcohol  malic_acid   ash  ...  od280/od315_of_diluted_wines  proline    label\n",
            "173    13.71        5.65  2.45  ...                          1.74    740.0  class_2\n",
            "174    13.40        3.91  2.48  ...                          1.56    750.0  class_2\n",
            "175    13.27        4.28  2.26  ...                          1.56    835.0  class_2\n",
            "176    13.17        2.59  2.37  ...                          1.62    840.0  class_2\n",
            "177    14.13        4.10  2.74  ...                          1.60    560.0  class_2\n",
            "\n",
            "[5 rows x 14 columns]\n",
            "0\n"
          ],
          "name": "stdout"
        }
      ]
    },
    {
      "cell_type": "code",
      "metadata": {
        "id": "SqADeruGY5By",
        "colab": {
          "base_uri": "https://localhost:8080/"
        },
        "outputId": "bfe6a085-3a8b-4000-a71f-603e30bf48a2"
      },
      "source": [
        "import pandas as pd\n",
        "import numpy as np\n",
        "import itertools\n",
        "import time\n",
        "import statsmodels.api as sm\n",
        "import matplotlib.pyplot as plt\n",
        "\n",
        "#Get data and labels X and y\n",
        "# X is df dataframe drop 'label' column \n",
        "X = df.drop(columns = ['label'])\n",
        "# y is the target of the wine dataset\n",
        "y = wine.target"
      ],
      "execution_count": null,
      "outputs": [
        {
          "output_type": "stream",
          "text": [
            "/usr/local/lib/python3.7/dist-packages/statsmodels/tools/_testing.py:19: FutureWarning: pandas.util.testing is deprecated. Use the functions in the public API at pandas.testing instead.\n",
            "  import pandas.util.testing as tm\n"
          ],
          "name": "stderr"
        }
      ]
    },
    {
      "cell_type": "code",
      "metadata": {
        "id": "K9szxjCglY4w"
      },
      "source": [
        "# SubSet model selection method have given for you\n",
        "def processSubset(feature_set):\n",
        "    # Fit model on feature_set and calculate RSS\n",
        "    model = sm.OLS(y,X[list(feature_set)])\n",
        "    regr = model.fit()\n",
        "    RSS = ((regr.predict(X[list(feature_set)]) - y) ** 2).sum()\n",
        "    return {\"model\":regr, \"RSS\":RSS}\n"
      ],
      "execution_count": null,
      "outputs": []
    },
    {
      "cell_type": "code",
      "metadata": {
        "id": "RzwUqP68YWE9"
      },
      "source": [
        "def getBest(k):\n",
        "    \n",
        "    tic = time.time()\n",
        "    \n",
        "    results = []\n",
        "    \n",
        "    for combo in itertools.combinations(X.columns, k):\n",
        "        results.append(processSubset(combo))\n",
        "    \n",
        "    # Wrap everything up in a nice dataframe\n",
        "    models = pd.DataFrame(results)\n",
        "    \n",
        "    # Choose the model with the highest RSS\n",
        "    best_model = models.loc[models['RSS'].idxmin()]\n",
        "    \n",
        "    toc = time.time()\n",
        "    print(\"Processed\", models.shape[0], \"models on\", k, \"predictors in\", (toc-tic), \"seconds.\")\n",
        "    \n",
        "    # Return the best model, along with some other useful information about the model\n",
        "    return best_model"
      ],
      "execution_count": null,
      "outputs": []
    },
    {
      "cell_type": "code",
      "metadata": {
        "id": "nzCF-B9XYaXc",
        "colab": {
          "base_uri": "https://localhost:8080/"
        },
        "outputId": "5bd8a281-c24a-4c75-e04e-81d7a6c38399"
      },
      "source": [
        "models_best = pd.DataFrame(columns=[\"RSS\", \"model\"])\n",
        "\n",
        "tic = time.time()\n",
        "\n",
        "#Find the best model in each number of predictors of the wine dataset\n",
        "#Save the best model in models_best.loc[i], i is the number of predictors \n",
        "#Note: Maybe you will need to use a for loop to achieve that\n",
        "\n",
        "# A range of (1,8) is the smallest range needed to fit the graphs in the next segment\n",
        "for i in range(1,14):\n",
        "  models_best.loc[i] = getBest(i)\n",
        "\n",
        "toc = time.time()\n",
        "print(\"Total elapsed time:\", (toc-tic), \"seconds.\")"
      ],
      "execution_count": null,
      "outputs": [
        {
          "output_type": "stream",
          "text": [
            "Processed 13 models on 1 predictors in 0.041848182678222656 seconds.\n",
            "Processed 78 models on 2 predictors in 0.27638983726501465 seconds.\n",
            "Processed 286 models on 3 predictors in 0.8535184860229492 seconds.\n",
            "Processed 715 models on 4 predictors in 2.2037665843963623 seconds.\n",
            "Processed 1287 models on 5 predictors in 3.8509421348571777 seconds.\n",
            "Processed 1716 models on 6 predictors in 5.042239427566528 seconds.\n",
            "Processed 1716 models on 7 predictors in 5.182631492614746 seconds.\n",
            "Processed 1287 models on 8 predictors in 3.7608819007873535 seconds.\n",
            "Processed 715 models on 9 predictors in 3.4007956981658936 seconds.\n",
            "Processed 286 models on 10 predictors in 1.2896928787231445 seconds.\n",
            "Processed 78 models on 11 predictors in 0.35515904426574707 seconds.\n",
            "Processed 13 models on 12 predictors in 0.06344985961914062 seconds.\n",
            "Processed 1 models on 13 predictors in 0.012880802154541016 seconds.\n",
            "Total elapsed time: 26.540024042129517 seconds.\n"
          ],
          "name": "stdout"
        }
      ]
    },
    {
      "cell_type": "code",
      "metadata": {
        "id": "tek0ALqzYifW",
        "colab": {
          "base_uri": "https://localhost:8080/",
          "height": 639
        },
        "outputId": "b915b249-b388-4897-f293-d085e75beab0"
      },
      "source": [
        "plt.figure(figsize=(20,10))\n",
        "plt.rcParams.update({'font.size': 18, 'lines.markersize': 10})\n",
        "\n",
        "# Set up a 2x2 grid so we can look at 4 plots at once\n",
        "plt.subplot(2, 2, 1)\n",
        "\n",
        "# We will now plot a red dot to indicate the model with the largest adjusted R^2 statistic.\n",
        "# The idxmax() function can be used to identify the location of the maximum point of a vector\n",
        "plt.plot(models_best[\"RSS\"])\n",
        "plt.xlabel('# Predictors')\n",
        "plt.ylabel('RSS')\n",
        "\n",
        "# We will now plot a red dot to indicate the model with the largest adjusted R^2 statistic.\n",
        "# The idxmax() function can be used to identify the location of the maximum point of a vector\n",
        "\n",
        "rsquared_adj = models_best.apply(lambda row: row[1].rsquared_adj, axis=1)\n",
        "\n",
        "plt.subplot(2, 2, 2)\n",
        "plt.plot(rsquared_adj)\n",
        "plt.plot(rsquared_adj.idxmax(), rsquared_adj.max(), \"or\")\n",
        "plt.xlabel('# Predictors')\n",
        "plt.ylabel('adjusted rsquared')\n",
        "\n",
        "# We'll do the same for AIC and BIC, this time looking for the models with the SMALLEST statistic\n",
        "aic = models_best.apply(lambda row: row[1].aic, axis=1)\n",
        "\n",
        "plt.subplot(2, 2, 3)\n",
        "plt.plot(aic)\n",
        "plt.plot(aic.idxmin(), aic.min(), \"or\")\n",
        "plt.xlabel('# Predictors')\n",
        "plt.ylabel('AIC')\n",
        "\n",
        "bic = models_best.apply(lambda row: row[1].bic, axis=1)\n",
        "\n",
        "plt.subplot(2, 2, 4)\n",
        "plt.plot(bic)\n",
        "plt.plot(bic.idxmin(), bic.min(), \"or\")\n",
        "plt.xlabel('# Predictors')\n",
        "plt.ylabel('BIC')"
      ],
      "execution_count": null,
      "outputs": [
        {
          "output_type": "execute_result",
          "data": {
            "text/plain": [
              "Text(0, 0.5, 'BIC')"
            ]
          },
          "metadata": {
            "tags": []
          },
          "execution_count": 18
        },
        {
          "output_type": "display_data",
          "data": {
            "image/png": "[encoded data removed]",
            "text/plain": [
              "<Figure size 1440x720 with 4 Axes>"
            ]
          },
          "metadata": {
            "tags": [],
            "needs_background": "light"
          }
        }
      ]
    },
    {
      "cell_type": "code",
      "metadata": {
        "id": "etFLp4INqPw8"
      },
      "source": [
        "#Answer the question: \n",
        "'''\n",
        "1. Based on the plots above, how many predictors will give you the best performer model? \n",
        "'''\n",
        "\n",
        "'''\n",
        "Your answer goes here: \n",
        "\n",
        "8 predictors will give you the best performer model. \n",
        "\n",
        "\n",
        "'''"
      ],
      "execution_count": null,
      "outputs": []
    },
    {
      "cell_type": "markdown",
      "metadata": {
        "id": "pKQICepejtAx"
      },
      "source": [
        "***EXERCISE NO. 1.2*** **Score : 10** "
      ]
    },
    {
      "cell_type": "code",
      "metadata": {
        "id": "SwCCZgDFlZeQ"
      },
      "source": [
        "#Forward selection\n",
        "def forward(predictors):\n",
        "\n",
        "    # Pull out predictors we still need to process\n",
        "    remaining_predictors = [p for p in X.columns if p not in predictors]\n",
        "    \n",
        "    tic = time.time()\n",
        "    \n",
        "    results = []\n",
        "    \n",
        "    for p in remaining_predictors:\n",
        "        results.append(processSubset(predictors+[p]))\n",
        "    \n",
        "    # Wrap everything up in a nice dataframe\n",
        "    models = pd.DataFrame(results)\n",
        "    \n",
        "    # Choose the model with the highest RSS\n",
        "    best_model = models.loc[models['RSS'].idxmin()]\n",
        "    \n",
        "    toc = time.time()\n",
        "    print(\"Processed \", models.shape[0], \"models on\", len(predictors)+1, \"predictors in\", (toc-tic), \"seconds.\")\n",
        "    \n",
        "    # Return the best model, along with some other useful information about the model\n",
        "    return best_model"
      ],
      "execution_count": null,
      "outputs": []
    },
    {
      "cell_type": "code",
      "metadata": {
        "id": "cdIYO8OSZhwB",
        "colab": {
          "base_uri": "https://localhost:8080/"
        },
        "outputId": "25f44265-8f05-4098-84a5-2f4a7693151c"
      },
      "source": [
        "models_fwd = pd.DataFrame(columns=[\"RSS\", \"model\"])\n",
        "\n",
        "tic = time.time()\n",
        "predictors = []\n",
        "\n",
        "#Refer to class example codes\n",
        "#Get all forward selection models\n",
        "#Note: You may need a for loop to achieve that\n",
        "\n",
        "for i in range(1,len(X.columns)+1):    \n",
        "    models_fwd.loc[i] = forward(predictors)\n",
        "    predictors = models_fwd.loc[i][\"model\"].model.exog_names\n",
        "\n",
        "toc = time.time()\n",
        "print(\"Total elapsed time:\", (toc-tic), \"seconds.\")"
      ],
      "execution_count": null,
      "outputs": [
        {
          "output_type": "stream",
          "text": [
            "Processed  13 models on 1 predictors in 0.04745292663574219 seconds.\n",
            "Processed  12 models on 2 predictors in 0.04504990577697754 seconds.\n",
            "Processed  11 models on 3 predictors in 0.03949093818664551 seconds.\n",
            "Processed  10 models on 4 predictors in 0.04233956336975098 seconds.\n",
            "Processed  9 models on 5 predictors in 0.03291797637939453 seconds.\n",
            "Processed  8 models on 6 predictors in 0.04106593132019043 seconds.\n",
            "Processed  7 models on 7 predictors in 0.04317164421081543 seconds.\n",
            "Processed  6 models on 8 predictors in 0.02268052101135254 seconds.\n",
            "Processed  5 models on 9 predictors in 0.02737879753112793 seconds.\n",
            "Processed  4 models on 10 predictors in 0.02382206916809082 seconds.\n",
            "Processed  3 models on 11 predictors in 0.02025318145751953 seconds.\n",
            "Processed  2 models on 12 predictors in 0.015029430389404297 seconds.\n",
            "Processed  1 models on 13 predictors in 0.006676197052001953 seconds.\n",
            "Total elapsed time: 0.4969635009765625 seconds.\n"
          ],
          "name": "stdout"
        }
      ]
    },
    {
      "cell_type": "code",
      "metadata": {
        "id": "4k7RhPwNZjfV",
        "colab": {
          "base_uri": "https://localhost:8080/",
          "height": 1000
        },
        "outputId": "1ddbf12f-c6de-4a8a-f135-56c5058e2c30"
      },
      "source": [
        "# print the best number of predictors you find in subset model selection\n",
        "# print the same number of predictors you find in forward model selection\n",
        "\n",
        "\n",
        "print(models_best.loc[8, \"model\"].summary())\n",
        "print(models_fwd.loc[8, \"model\"].summary())\n",
        "\n",
        "#Answer the question:\n",
        "\n",
        "'''\n",
        "Are these models' features identical?\n",
        "\n",
        "''' \n",
        "\n",
        "'''\n",
        "Your answer goes here: \n",
        "\n",
        "No.\n",
        "\n",
        "'''"
      ],
      "execution_count": null,
      "outputs": [
        {
          "output_type": "stream",
          "text": [
            "                                 OLS Regression Results                                \n",
            "=======================================================================================\n",
            "Dep. Variable:                      y   R-squared (uncentered):                   0.947\n",
            "Model:                            OLS   Adj. R-squared (uncentered):              0.944\n",
            "Method:                 Least Squares   F-statistic:                              376.5\n",
            "Date:                Wed, 24 Mar 2021   Prob (F-statistic):                   6.72e-104\n",
            "Time:                        01:29:27   Log-Likelihood:                         -26.590\n",
            "No. Observations:                 178   AIC:                                      69.18\n",
            "Df Residuals:                     170   BIC:                                      94.63\n",
            "Df Model:                           8                                                  \n",
            "Covariance Type:            nonrobust                                                  \n",
            "================================================================================================\n",
            "                                   coef    std err          t      P>|t|      [0.025      0.975]\n",
            "------------------------------------------------------------------------------------------------\n",
            "alcohol                          0.1026      0.017      5.902      0.000       0.068       0.137\n",
            "alcalinity_of_ash                0.0504      0.007      7.528      0.000       0.037       0.064\n",
            "total_phenols                    0.1661      0.071      2.324      0.021       0.025       0.307\n",
            "flavanoids                      -0.4344      0.053     -8.223      0.000      -0.539      -0.330\n",
            "proanthocyanins                  0.0993      0.051      1.963      0.051      -0.001       0.199\n",
            "color_intensity                  0.0549      0.014      4.061      0.000       0.028       0.082\n",
            "od280/od315_of_diluted_wines    -0.2287      0.058     -3.948      0.000      -0.343      -0.114\n",
            "proline                         -0.0010      0.000     -9.530      0.000      -0.001      -0.001\n",
            "==============================================================================\n",
            "Omnibus:                        0.756   Durbin-Watson:                   1.459\n",
            "Prob(Omnibus):                  0.685   Jarque-Bera (JB):                0.543\n",
            "Skew:                           0.129   Prob(JB):                        0.762\n",
            "Kurtosis:                       3.081   Cond. No.                     3.03e+03\n",
            "==============================================================================\n",
            "\n",
            "Warnings:\n",
            "[1] Standard Errors assume that the covariance matrix of the errors is correctly specified.\n",
            "[2] The condition number is large, 3.03e+03. This might indicate that there are\n",
            "strong multicollinearity or other numerical problems.\n",
            "                                 OLS Regression Results                                \n",
            "=======================================================================================\n",
            "Dep. Variable:                      y   R-squared (uncentered):                   0.946\n",
            "Model:                            OLS   Adj. R-squared (uncentered):              0.943\n",
            "Method:                 Least Squares   F-statistic:                              369.1\n",
            "Date:                Wed, 24 Mar 2021   Prob (F-statistic):                   3.28e-103\n",
            "Time:                        01:29:27   Log-Likelihood:                         -28.253\n",
            "No. Observations:                 178   AIC:                                      72.51\n",
            "Df Residuals:                     170   BIC:                                      97.96\n",
            "Df Model:                           8                                                  \n",
            "Covariance Type:            nonrobust                                                  \n",
            "================================================================================================\n",
            "                                   coef    std err          t      P>|t|      [0.025      0.975]\n",
            "------------------------------------------------------------------------------------------------\n",
            "nonflavanoid_phenols            -0.1699      0.213     -0.796      0.427      -0.591       0.251\n",
            "flavanoids                      -0.4160      0.053     -7.910      0.000      -0.520      -0.312\n",
            "alcalinity_of_ash                0.0532      0.007      7.557      0.000       0.039       0.067\n",
            "color_intensity                  0.0576      0.014      4.248      0.000       0.031       0.084\n",
            "proline                         -0.0010      0.000     -9.545      0.000      -0.001      -0.001\n",
            "alcohol                          0.1075      0.018      5.819      0.000       0.071       0.144\n",
            "od280/od315_of_diluted_wines    -0.2244      0.059     -3.821      0.000      -0.340      -0.108\n",
            "total_phenols                    0.1863      0.072      2.592      0.010       0.044       0.328\n",
            "==============================================================================\n",
            "Omnibus:                        0.830   Durbin-Watson:                   1.442\n",
            "Prob(Omnibus):                  0.660   Jarque-Bera (JB):                0.893\n",
            "Skew:                           0.159   Prob(JB):                        0.640\n",
            "Kurtosis:                       2.862   Cond. No.                     7.97e+03\n",
            "==============================================================================\n",
            "\n",
            "Warnings:\n",
            "[1] Standard Errors assume that the covariance matrix of the errors is correctly specified.\n",
            "[2] The condition number is large, 7.97e+03. This might indicate that there are\n",
            "strong multicollinearity or other numerical problems.\n"
          ],
          "name": "stdout"
        },
        {
          "output_type": "execute_result",
          "data": {
            "application/vnd.google.colaboratory.intrinsic+json": {
              "type": "string"
            },
            "text/plain": [
              "'\\nYour answer goes here: \\n\\nNo\\n\\n'"
            ]
          },
          "metadata": {
            "tags": []
          },
          "execution_count": 27
        }
      ]
    },
    {
      "cell_type": "markdown",
      "metadata": {
        "id": "F84dkDe5i8Yd"
      },
      "source": [
        "### 2. Model Regularization \n",
        "---\n",
        "\n",
        "\n",
        "\n",
        "---"
      ]
    },
    {
      "cell_type": "markdown",
      "metadata": {
        "id": "bg_fJcRai8h1"
      },
      "source": [
        "***EXERCISE NO. 2.1*** **Score : 10** "
      ]
    },
    {
      "cell_type": "code",
      "metadata": {
        "id": "2SlFcaVllmLA",
        "colab": {
          "base_uri": "https://localhost:8080/"
        },
        "outputId": "9207666e-12d6-4083-9901-102d3ddf2ba8"
      },
      "source": [
        "#Ridge regression  \n",
        "#We use the wine data to predict a wine's class \n",
        "from sklearn.preprocessing import scale \n",
        "from sklearn.model_selection import train_test_split\n",
        "from sklearn.linear_model import Ridge, Lasso, RidgeCV, LassoCV\n",
        "from sklearn.metrics import mean_squared_error\n",
        "\n",
        "#print df head\n",
        "print(df.head())\n",
        "\n",
        "#Get data and labels X and y\n",
        "# X is df dataframe drop 'label' column, axis=1\n",
        "X = df.drop(columns = ['label'], axis = 1)\n",
        "# y is the target of the wine dataset\n",
        "y = wine.target"
      ],
      "execution_count": null,
      "outputs": [
        {
          "output_type": "stream",
          "text": [
            "   alcohol  malic_acid   ash  ...  od280/od315_of_diluted_wines  proline    label\n",
            "0    14.23        1.71  2.43  ...                          3.92   1065.0  class_0\n",
            "1    13.20        1.78  2.14  ...                          3.40   1050.0  class_0\n",
            "2    13.16        2.36  2.67  ...                          3.17   1185.0  class_0\n",
            "3    14.37        1.95  2.50  ...                          3.45   1480.0  class_0\n",
            "4    13.24        2.59  2.87  ...                          2.93    735.0  class_0\n",
            "\n",
            "[5 rows x 14 columns]\n"
          ],
          "name": "stdout"
        }
      ]
    },
    {
      "cell_type": "code",
      "metadata": {
        "id": "Hh0cVMbAUlVO",
        "colab": {
          "base_uri": "https://localhost:8080/"
        },
        "outputId": "a6d97b8c-c63f-4b44-8721-2e094cc73e9d"
      },
      "source": [
        "# generate an array of alpha values ranging from very big to very small\n",
        "# NOTE: here alpha means the lambda mentioned in class\n",
        "# Associated with each alpha value is a vector of ridge regression coefficients, which we'll\n",
        "# store in a matrix coefs. In this case, it is a 100 * 13\n",
        "# matrix, with 13 cols (one for each predictor) and 100\n",
        "# rows (one for each value of alpha).\n",
        "\n",
        "alphas = 10**np.linspace(10,-2,100)*0.5\n",
        "ridge = Ridge(normalize = True)\n",
        "coefs = []\n",
        "\n",
        "for a in alphas:\n",
        "    ridge.set_params(alpha = a)\n",
        "    ridge.fit(X, y)\n",
        "    coefs.append(ridge.coef_)\n",
        "    \n",
        "np.shape(coefs)  "
      ],
      "execution_count": null,
      "outputs": [
        {
          "output_type": "execute_result",
          "data": {
            "text/plain": [
              "(100, 13)"
            ]
          },
          "metadata": {
            "tags": []
          },
          "execution_count": 29
        }
      ]
    },
    {
      "cell_type": "code",
      "metadata": {
        "id": "Bh92HasdVc2K"
      },
      "source": [
        "# Split data into training and test sets \n",
        "X_train, X_test , y_train, y_test = train_test_split(X, y, test_size=0.5, random_state=0)"
      ],
      "execution_count": null,
      "outputs": []
    },
    {
      "cell_type": "code",
      "metadata": {
        "id": "GxsS87KdVlOr",
        "colab": {
          "base_uri": "https://localhost:8080/"
        },
        "outputId": "917a1a15-7f20-4114-a603-c9b8078d2201"
      },
      "source": [
        "# We fit a ridge regression model on the training set, and evaluate\n",
        "# its MSE on the test set, pass alpha = 4, normalize = True to Ridge():\n",
        "ridge2 = Ridge(alpha = 4,normalize = True)\n",
        "ridge2.fit(X_train, y_train)             # Fit a ridge regression on the training data\n",
        "pred2 = ridge2.predict(X_test)           # Use this model to predict the test data\n",
        "print(pd.Series(ridge2.coef_, index = X.columns)) # Print coefficients\n",
        "mse = mean_squared_error(y_test, pred2)          # Calculate the test MSE\n",
        "print(\"Test mean squared error (MSE): {:.2f}\".format(mse))"
      ],
      "execution_count": null,
      "outputs": [
        {
          "output_type": "stream",
          "text": [
            "alcohol                        -0.040578\n",
            "malic_acid                      0.038192\n",
            "ash                            -0.026995\n",
            "alcalinity_of_ash               0.014080\n",
            "magnesium                      -0.000702\n",
            "total_phenols                  -0.107779\n",
            "flavanoids                     -0.085737\n",
            "nonflavanoid_phenols            0.308744\n",
            "proanthocyanins                -0.088442\n",
            "color_intensity                 0.011403\n",
            "hue                            -0.252242\n",
            "od280/od315_of_diluted_wines   -0.110255\n",
            "proline                        -0.000210\n",
            "dtype: float64\n",
            "Test mean squared error (MSE): 0.20\n"
          ],
          "name": "stdout"
        }
      ]
    },
    {
      "cell_type": "code",
      "metadata": {
        "id": "CwFviD1fVlR8",
        "colab": {
          "base_uri": "https://localhost:8080/"
        },
        "outputId": "592fa4e3-cd30-47f8-a0af-f89b2daa1883"
      },
      "source": [
        "#Pass alpha = 10**10 to Ridge() and do the similar process like the previous cell\n",
        "ridge3 = Ridge(alpha = 10**10,normalize = True)\n",
        "ridge3.fit(X_train, y_train)             # Fit a ridge regression on the training data\n",
        "pred2 = ridge3.predict(X_test)           # Use this model to predict the test data\n",
        "print(pd.Series(ridge3.coef_, index = X.columns)) # Print coefficients\n",
        "mse = mean_squared_error(y_test, pred2)          # Calculate the test MSE\n",
        "print(\"Test mean squared error (MSE): {:.2f}\".format(mse))"
      ],
      "execution_count": null,
      "outputs": [
        {
          "output_type": "stream",
          "text": [
            "alcohol                        -3.703259e-11\n",
            "malic_acid                      3.555099e-11\n",
            "ash                             5.874964e-13\n",
            "alcalinity_of_ash               1.386774e-11\n",
            "magnesium                      -1.064071e-12\n",
            "total_phenols                  -1.015540e-10\n",
            "flavanoids                     -7.471098e-11\n",
            "nonflavanoid_phenols            3.239456e-10\n",
            "proanthocyanins                -9.255570e-11\n",
            "color_intensity                 7.318064e-12\n",
            "hue                            -2.190880e-10\n",
            "od280/od315_of_diluted_wines   -9.176652e-11\n",
            "proline                        -1.765504e-13\n",
            "dtype: float64\n",
            "Test mean squared error (MSE): 0.56\n"
          ],
          "name": "stdout"
        }
      ]
    },
    {
      "cell_type": "code",
      "metadata": {
        "id": "2COTJJZoV_lh",
        "colab": {
          "base_uri": "https://localhost:8080/"
        },
        "outputId": "84db7480-3252-46fc-aa0e-1d59fd24d602"
      },
      "source": [
        "#Pass alpha = 0 to Ridge() and do the similar process like the previous cell\n",
        "ridge4 = Ridge(alpha = 0,normalize = True)\n",
        "ridge4.fit(X_train, y_train)             # Fit a ridge regression on the training data\n",
        "pred2 = ridge4.predict(X_test)           # Use this model to predict the test data\n",
        "print(pd.Series(ridge4.coef_, index = X.columns)) # Print coefficients\n",
        "mse = mean_squared_error(y_test, pred2)          # Calculate the test MSE\n",
        "print(\"Test mean squared error (MSE): {:.2f}\".format(mse))\n",
        "print(\"Test mean squared error (MSE): {:.2f}\".format(mse))"
      ],
      "execution_count": null,
      "outputs": [
        {
          "output_type": "stream",
          "text": [
            "alcohol                        -0.086115\n",
            "malic_acid                      0.028161\n",
            "ash                            -0.072719\n",
            "alcalinity_of_ash               0.012623\n",
            "magnesium                      -0.002462\n",
            "total_phenols                   0.280153\n",
            "flavanoids                     -0.483017\n",
            "nonflavanoid_phenols           -0.438731\n",
            "proanthocyanins                 0.098465\n",
            "color_intensity                 0.057129\n",
            "hue                            -0.202659\n",
            "od280/od315_of_diluted_wines   -0.359534\n",
            "proline                        -0.000840\n",
            "dtype: float64\n",
            "Test mean squared error (MSE): 0.10\n",
            "Test mean squared error (MSE): 0.10\n"
          ],
          "name": "stdout"
        }
      ]
    },
    {
      "cell_type": "code",
      "metadata": {
        "id": "U9SDa5fO3Edb"
      },
      "source": [
        "# Study the code above and answer the question: \n",
        "'''\n",
        "1. Why when passing alpha = 10**10, the coefficients become very small? \n",
        "2. Does alpha = 4 improve the MSE comparing to regular least squares?\n",
        "'''\n",
        "\n",
        "'''\n",
        "Your answer goes here: \n",
        "\n",
        "1. The coefficients become vary small because the alpha is 100 which is large.\n",
        "\n",
        "2. Yes, alpha = 4 gives a bigger MSE compared to regular least squares.\n",
        "\n",
        "'''"
      ],
      "execution_count": null,
      "outputs": []
    },
    {
      "cell_type": "code",
      "metadata": {
        "id": "_ZrcA4K14mZQ",
        "colab": {
          "base_uri": "https://localhost:8080/"
        },
        "outputId": "f1091fb9-0320-44f5-8536-d15aba73c01d"
      },
      "source": [
        "#Use RidgeCV to find the best alpha\n",
        "\n",
        "ridgecv = RidgeCV(alphas = alphas, scoring = 'neg_mean_squared_error', normalize = True)\n",
        "ridgecv.fit(X_train, y_train)\n",
        "print(\"Best alpha: {:.2f}\".format(ridgecv.alpha_))"
      ],
      "execution_count": null,
      "outputs": [
        {
          "output_type": "stream",
          "text": [
            "Best alpha: 0.01\n"
          ],
          "name": "stdout"
        }
      ]
    },
    {
      "cell_type": "code",
      "metadata": {
        "id": "0jS2w_yV4mln",
        "colab": {
          "base_uri": "https://localhost:8080/"
        },
        "outputId": "59dcd311-5446-4e15-f42c-db39074697e5"
      },
      "source": [
        "#Calculate MSE(mean squared error) based on the best alpha found by RidgeCV \n",
        "ridge5 = Ridge(alpha = ridgecv.alpha_, normalize = True)\n",
        "ridge5.fit(X_train, y_train)\n",
        "mse = mean_squared_error(y_test, ridge5.predict(X_test))\n",
        "print(\"Test mean squared error (MSE): {:.2f}\".format(mse))"
      ],
      "execution_count": null,
      "outputs": [
        {
          "output_type": "stream",
          "text": [
            "Test mean squared error (MSE): 0.10\n"
          ],
          "name": "stdout"
        }
      ]
    },
    {
      "cell_type": "markdown",
      "metadata": {
        "id": "PXB_2z4tj1Qs"
      },
      "source": [
        "***EXERCISE NO. 2.2*** **Score : 10** "
      ]
    },
    {
      "cell_type": "code",
      "metadata": {
        "id": "Cjr1RAI3lmvH"
      },
      "source": [
        "#Lasso regression\n",
        "lasso = Lasso(max_iter = 10000, normalize = True)\n",
        "coefs = []\n",
        "\n",
        "for a in alphas:\n",
        "    lasso.set_params(alpha=a)\n",
        "    lasso.fit(scale(X_train), y_train)\n",
        "    coefs.append(lasso.coef_)"
      ],
      "execution_count": null,
      "outputs": []
    },
    {
      "cell_type": "code",
      "metadata": {
        "id": "GdkICLDJXae9",
        "colab": {
          "base_uri": "https://localhost:8080/"
        },
        "outputId": "9a09b995-ab85-4885-87a8-9a2c1631c662"
      },
      "source": [
        "# Study the RidgeCV process and use LassoCV to find the Best alpha of Lasso regression and its correspond MSE\n",
        "# Refer to class example codes\n",
        "lassocv = LassoCV(alphas = None, cv = 10, max_iter = 100000, normalize = True)\n",
        "lassocv.fit(X_train, y_train)\n",
        "print(\"Best alpha: {:.2f}\".format(lassocv.alpha_))\n",
        "\n",
        "lasso.set_params(alpha=lassocv.alpha_)\n",
        "lasso.fit(X_train, y_train)\n",
        "mse = mean_squared_error(y_test, lasso.predict(X_test))\n",
        "print(\"Test mean squared error (MSE): {:.2f}\".format(mse))"
      ],
      "execution_count": null,
      "outputs": [
        {
          "output_type": "stream",
          "text": [
            "Best alpha: 0.00\n",
            "Test mean squared error (MSE): 0.10\n"
          ],
          "name": "stdout"
        }
      ]
    },
    {
      "cell_type": "code",
      "metadata": {
        "colab": {
          "base_uri": "https://localhost:8080/"
        },
        "id": "dMR-VrLnXd6r",
        "outputId": "d8ccc5f5-e4bf-4514-d822-08f6b14614d5"
      },
      "source": [
        "#print out lasso coefficient numbers\n",
        "pd.Series(lasso.coef_, index=X.columns)"
      ],
      "execution_count": null,
      "outputs": [
        {
          "output_type": "execute_result",
          "data": {
            "text/plain": [
              "alcohol                        -0.084424\n",
              "malic_acid                      0.028204\n",
              "ash                            -0.069616\n",
              "alcalinity_of_ash               0.012124\n",
              "magnesium                      -0.002296\n",
              "total_phenols                   0.264829\n",
              "flavanoids                     -0.472900\n",
              "nonflavanoid_phenols           -0.405353\n",
              "proanthocyanins                 0.091539\n",
              "color_intensity                 0.056779\n",
              "hue                            -0.204164\n",
              "od280/od315_of_diluted_wines   -0.356420\n",
              "proline                        -0.000839\n",
              "dtype: float64"
            ]
          },
          "metadata": {
            "tags": []
          },
          "execution_count": 43
        }
      ]
    },
    {
      "cell_type": "code",
      "metadata": {
        "id": "lBpL1SIW_-kZ"
      },
      "source": [
        "# Answer the question: \n",
        "'''\n",
        "1. Observe the lasso.coef and ridge.coef, what do you find? \n",
        "'''\n",
        "\n",
        "\n",
        "'''\n",
        "Your answer goes here: \n",
        "\n",
        "Lasso.coef and ridge.coef give the same MSE, but they\n",
        "perform best at different alphas.\n",
        "\n",
        "\n",
        "'''"
      ],
      "execution_count": null,
      "outputs": []
    },
    {
      "cell_type": "markdown",
      "metadata": {
        "id": "CZjog3PvY1BN"
      },
      "source": [
        "### 3. Decision Tree with KFord Cross Validation \n",
        "---\n",
        "\n",
        "\n",
        "\n",
        "---"
      ]
    },
    {
      "cell_type": "markdown",
      "metadata": {
        "id": "ANfJocoCozhg"
      },
      "source": [
        "***EXERCISE NO. 3.1 | Score :30***"
      ]
    },
    {
      "cell_type": "code",
      "metadata": {
        "id": "JaGOrF2UbRZ7",
        "colab": {
          "base_uri": "https://localhost:8080/"
        },
        "outputId": "b5013ef7-58d7-44d8-8477-80c9a5a7729b"
      },
      "source": [
        "# Required Dataset\n",
        "\n",
        "from sklearn.datasets import load_diabetes\n",
        "\n",
        "# In the following exercises you will use the diabetes datasets for regression problems.\n",
        "# Use your experience from previous exercises on how to use sklearn model, load data and do visualization.\n",
        "# Please try to research about the datasets diabetes dataset\n",
        "\n",
        "#Load necessary libraries for you \n",
        "from sklearn import preprocessing\n",
        "from sklearn.model_selection import train_test_split\n",
        "import numpy as np\n",
        "\n",
        "#Load the diabetes dataset\n",
        "diabetes = load_diabetes()\n",
        "#split the dataset with test_size = 0.20\n",
        "regXtrain, regXtest, regYtrain, regYtest = train_test_split(diabetes.data, diabetes.target, test_size = 0.20)\n",
        "\n",
        "print(f\"Regression data : diabetes data\")\n",
        "print(f\"xtrainShape : {regXtrain.shape}, ytrainShape : {regYtrain.shape}, xtestShape : {regXtest.shape}, ytestShape : {regYtest.shape}\")\n"
      ],
      "execution_count": null,
      "outputs": [
        {
          "output_type": "stream",
          "text": [
            "Regression data : diabetes data\n",
            "xtrainShape : (353, 10), ytrainShape : (353,), xtestShape : (89, 10), ytestShape : (89,)\n"
          ],
          "name": "stdout"
        }
      ]
    },
    {
      "cell_type": "code",
      "metadata": {
        "id": "Ci3QlMaiG1yA"
      },
      "source": [
        "#You may print necessary dataset information to help you better understand this dataset \n"
      ],
      "execution_count": null,
      "outputs": []
    },
    {
      "cell_type": "code",
      "metadata": {
        "id": "hENPT2I6o6gj",
        "colab": {
          "base_uri": "https://localhost:8080/"
        },
        "outputId": "9334f25c-6fc0-4536-a60c-5c0e73217343"
      },
      "source": [
        "# Use the bosting diabetes dataset to achieve the following tasks\n",
        "# An example link\n",
        "# https://scikit-learn.org/stable/auto_examples/tree/plot_tree_regression.html#sphx-glr-auto-examples-tree-plot-tree-regression-py\n",
        "\n",
        "# Tasks:\n",
        "# 1. Create four decision tree regressor models, use max_depth size = 1,2,5,100\n",
        "# 2. Fit model. You will have 4 different models for different depth sizes\n",
        "# 3. Calculate the mean squared error of each model's prediction\n",
        "# 4. Find the best max_depth\n",
        "\n",
        "from sklearn.tree import DecisionTreeRegressor\n",
        "from sklearn.metrics import mean_squared_error\n",
        "\n",
        "#create decision tree regressor\n",
        "regr_1 = DecisionTreeRegressor(max_depth=1)\n",
        "regr_2 = DecisionTreeRegressor(max_depth=2)\n",
        "regr_3 = DecisionTreeRegressor(max_depth=5)\n",
        "regr_4 = DecisionTreeRegressor(max_depth=100)\n",
        "\n",
        "\n",
        "#fit regression model\n",
        "regr_1.fit(regXtrain, regYtrain)\n",
        "regr_2.fit(regXtrain, regYtrain)\n",
        "regr_3.fit(regXtrain, regYtrain)\n",
        "regr_4.fit(regXtrain, regYtrain)\n",
        "\n",
        "#predict\n",
        "y_1 = regr_1.predict(regXtest) \n",
        "y_2 = regr_2.predict(regXtest)\n",
        "y_3 = regr_3.predict(regXtest)\n",
        "y_4 = regr_4.predict(regXtest)\n",
        "\n",
        "#calculate mean_squared_error\n",
        "print(mean_squared_error(regYtest, y_1))\n",
        "print(mean_squared_error(regYtest, y_2))\n",
        "print(mean_squared_error(regYtest, y_3))\n",
        "print(mean_squared_error(regYtest, y_4))"
      ],
      "execution_count": null,
      "outputs": [
        {
          "output_type": "stream",
          "text": [
            "3681.9715799040237\n",
            "3637.520782129094\n",
            "4005.6210641795565\n",
            "6010.258426966292\n"
          ],
          "name": "stdout"
        }
      ]
    },
    {
      "cell_type": "code",
      "metadata": {
        "id": "bm9RzQkr-RTQ",
        "colab": {
          "base_uri": "https://localhost:8080/",
          "height": 312
        },
        "outputId": "7faf4fee-c32d-490b-88d7-f849ce4ae979"
      },
      "source": [
        "#Plot the best regression model prediction scatter points \n",
        "plt.scatter(y_2, \n",
        "            regYtest, \n",
        "            label = 'medv')\n",
        "\n",
        "plt.plot([0, 1], \n",
        "         [0, 1], \n",
        "         '--k', \n",
        "         transform = plt.gca().transAxes)\n",
        "\n",
        "plt.xlabel('y_2')\n",
        "plt.ylabel('y_test')"
      ],
      "execution_count": null,
      "outputs": [
        {
          "output_type": "execute_result",
          "data": {
            "text/plain": [
              "Text(0, 0.5, 'y_test')"
            ]
          },
          "metadata": {
            "tags": []
          },
          "execution_count": 73
        },
        {
          "output_type": "display_data",
          "data": {
            "image/png": "[encoded data removed]",
            "text/plain": [
              "<Figure size 432x288 with 1 Axes>"
            ]
          },
          "metadata": {
            "tags": [],
            "needs_background": "light"
          }
        }
      ]
    },
    {
      "cell_type": "code",
      "metadata": {
        "id": "ngYtdlwZy7By",
        "colab": {
          "base_uri": "https://localhost:8080/"
        },
        "outputId": "7849ec56-dd75-459d-c38f-6ddfd5722a07"
      },
      "source": [
        "# Finally pick the best max_depth you got\n",
        "# Use this max_depth, and use cross_val_score and fit your model with k = 10 fold size\n",
        "# Calculate average scores in kfold\n",
        "'''\n",
        "Best max_depth = ?\n",
        "\n",
        "'''\n",
        "\n",
        "from sklearn.model_selection import KFold, cross_val_score\n",
        "\n",
        "kfold = KFold(n_splits = 10)\n",
        "scores = cross_val_score(regr_2, diabetes.data, diabetes.target,cv=kfold)\n",
        "print(\"Cross-validation scores: {}\".format(scores))\n",
        "print(\"Average cross-validation score: {:.2f}\".format(scores.mean()))"
      ],
      "execution_count": null,
      "outputs": [
        {
          "output_type": "stream",
          "text": [
            "Cross-validation scores: [0.28897364 0.16168834 0.30122639 0.48723453 0.30735793 0.5135879\n",
            " 0.29810844 0.01757394 0.15153891 0.55875239]\n",
            "Average cross-validation score: 0.31\n"
          ],
          "name": "stdout"
        }
      ]
    },
    {
      "cell_type": "code",
      "metadata": {
        "id": "kvJohMtn4-D1",
        "colab": {
          "base_uri": "https://localhost:8080/",
          "height": 380
        },
        "outputId": "ca0c1006-d8cc-4477-cda8-fdf5f7bea321"
      },
      "source": [
        "#Refer to class example code \n",
        "#Plot the decision tree with max_depth = 2\n",
        "\n",
        "import graphviz\n",
        "from sklearn.tree import export_graphviz\n",
        "\n",
        "export_graphviz(regr_2,out_file = \"diabetes_tree.dot\", feature_names = diabetes.feature_names)\n",
        "with open(\"diabetes_tree.dot\") as f:\n",
        "  dot_graph = f.read()\n",
        "graphviz.Source(dot_graph)"
      ],
      "execution_count": null,
      "outputs": [
        {
          "output_type": "execute_result",
          "data": {
            "text/plain": [
              "<graphviz.files.Source at 0x7fc4d9a9fdd0>"
            ],
            "image/svg+xml": "<?xml version=\"1.0\" encoding=\"UTF-8\" standalone=\"no\"?>\n<!DOCTYPE svg PUBLIC \"-//W3C//DTD SVG 1.1//EN\"\n \"http://www.w3.org/Graphics/SVG/1.1/DTD/svg11.dtd\">\n<!-- Generated by graphviz version 2.40.1 (20161225.0304)\n -->\n<!-- Title: Tree Pages: 1 -->\n<svg width=\"509pt\" height=\"269pt\"\n viewBox=\"0.00 0.00 509.00 269.00\" xmlns=\"http://www.w3.org/2000/svg\" xmlns:xlink=\"http://www.w3.org/1999/xlink\">\n<g id=\"graph0\" class=\"graph\" transform=\"scale(1 1) rotate(0) translate(4 265)\">\n<title>Tree</title>\n<polygon fill=\"#ffffff\" stroke=\"transparent\" points=\"-4,4 -4,-265 505,-265 505,4 -4,4\"/>\n<!-- 0 -->\n<g id=\"node1\" class=\"node\">\n<title>0</title>\n<polygon fill=\"none\" stroke=\"#000000\" points=\"306,-261 195,-261 195,-193 306,-193 306,-261\"/>\n<text text-anchor=\"middle\" x=\"250.5\" y=\"-245.8\" font-family=\"Times,serif\" font-size=\"14.00\" fill=\"#000000\">s5 &lt;= &#45;0.004</text>\n<text text-anchor=\"middle\" x=\"250.5\" y=\"-230.8\" font-family=\"Times,serif\" font-size=\"14.00\" fill=\"#000000\">mse = 6159.603</text>\n<text text-anchor=\"middle\" x=\"250.5\" y=\"-215.8\" font-family=\"Times,serif\" font-size=\"14.00\" fill=\"#000000\">samples = 353</text>\n<text text-anchor=\"middle\" x=\"250.5\" y=\"-200.8\" font-family=\"Times,serif\" font-size=\"14.00\" fill=\"#000000\">value = 154.53</text>\n</g>\n<!-- 1 -->\n<g id=\"node2\" class=\"node\">\n<title>1</title>\n<polygon fill=\"none\" stroke=\"#000000\" points=\"241.5,-157 129.5,-157 129.5,-89 241.5,-89 241.5,-157\"/>\n<text text-anchor=\"middle\" x=\"185.5\" y=\"-141.8\" font-family=\"Times,serif\" font-size=\"14.00\" fill=\"#000000\">bmi &lt;= 0.02</text>\n<text text-anchor=\"middle\" x=\"185.5\" y=\"-126.8\" font-family=\"Times,serif\" font-size=\"14.00\" fill=\"#000000\">mse = 3322.471</text>\n<text text-anchor=\"middle\" x=\"185.5\" y=\"-111.8\" font-family=\"Times,serif\" font-size=\"14.00\" fill=\"#000000\">samples = 168</text>\n<text text-anchor=\"middle\" x=\"185.5\" y=\"-96.8\" font-family=\"Times,serif\" font-size=\"14.00\" fill=\"#000000\">value = 109.702</text>\n</g>\n<!-- 0&#45;&gt;1 -->\n<g id=\"edge1\" class=\"edge\">\n<title>0&#45;&gt;1</title>\n<path fill=\"none\" stroke=\"#000000\" d=\"M229.2166,-192.9465C223.7733,-184.2373 217.8516,-174.7626 212.175,-165.6801\"/>\n<polygon fill=\"#000000\" stroke=\"#000000\" points=\"215.0993,-163.755 206.8312,-157.13 209.1633,-167.465 215.0993,-163.755\"/>\n<text text-anchor=\"middle\" x=\"201.2098\" y=\"-177.7898\" font-family=\"Times,serif\" font-size=\"14.00\" fill=\"#000000\">True</text>\n</g>\n<!-- 4 -->\n<g id=\"node5\" class=\"node\">\n<title>4</title>\n<polygon fill=\"none\" stroke=\"#000000\" points=\"371.5,-157 259.5,-157 259.5,-89 371.5,-89 371.5,-157\"/>\n<text text-anchor=\"middle\" x=\"315.5\" y=\"-141.8\" font-family=\"Times,serif\" font-size=\"14.00\" fill=\"#000000\">bmi &lt;= 0.068</text>\n<text text-anchor=\"middle\" x=\"315.5\" y=\"-126.8\" font-family=\"Times,serif\" font-size=\"14.00\" fill=\"#000000\">mse = 5254.041</text>\n<text text-anchor=\"middle\" x=\"315.5\" y=\"-111.8\" font-family=\"Times,serif\" font-size=\"14.00\" fill=\"#000000\">samples = 185</text>\n<text text-anchor=\"middle\" x=\"315.5\" y=\"-96.8\" font-family=\"Times,serif\" font-size=\"14.00\" fill=\"#000000\">value = 195.238</text>\n</g>\n<!-- 0&#45;&gt;4 -->\n<g id=\"edge4\" class=\"edge\">\n<title>0&#45;&gt;4</title>\n<path fill=\"none\" stroke=\"#000000\" d=\"M271.7834,-192.9465C277.2267,-184.2373 283.1484,-174.7626 288.825,-165.6801\"/>\n<polygon fill=\"#000000\" stroke=\"#000000\" points=\"291.8367,-167.465 294.1688,-157.13 285.9007,-163.755 291.8367,-167.465\"/>\n<text text-anchor=\"middle\" x=\"299.7902\" y=\"-177.7898\" font-family=\"Times,serif\" font-size=\"14.00\" fill=\"#000000\">False</text>\n</g>\n<!-- 2 -->\n<g id=\"node3\" class=\"node\">\n<title>2</title>\n<polygon fill=\"none\" stroke=\"#000000\" points=\"111,-53 0,-53 0,0 111,0 111,-53\"/>\n<text text-anchor=\"middle\" x=\"55.5\" y=\"-37.8\" font-family=\"Times,serif\" font-size=\"14.00\" fill=\"#000000\">mse = 2050.538</text>\n<text text-anchor=\"middle\" x=\"55.5\" y=\"-22.8\" font-family=\"Times,serif\" font-size=\"14.00\" fill=\"#000000\">samples = 137</text>\n<text text-anchor=\"middle\" x=\"55.5\" y=\"-7.8\" font-family=\"Times,serif\" font-size=\"14.00\" fill=\"#000000\">value = 96.197</text>\n</g>\n<!-- 1&#45;&gt;2 -->\n<g id=\"edge2\" class=\"edge\">\n<title>1&#45;&gt;2</title>\n<path fill=\"none\" stroke=\"#000000\" d=\"M139.6669,-88.9777C126.7143,-79.3629 112.6465,-68.9203 99.7867,-59.3743\"/>\n<polygon fill=\"#000000\" stroke=\"#000000\" points=\"101.6499,-56.3986 91.5342,-53.2485 97.4776,-62.0193 101.6499,-56.3986\"/>\n</g>\n<!-- 3 -->\n<g id=\"node4\" class=\"node\">\n<title>3</title>\n<polygon fill=\"none\" stroke=\"#000000\" points=\"241.5,-53 129.5,-53 129.5,0 241.5,0 241.5,-53\"/>\n<text text-anchor=\"middle\" x=\"185.5\" y=\"-37.8\" font-family=\"Times,serif\" font-size=\"14.00\" fill=\"#000000\">mse = 4575.27</text>\n<text text-anchor=\"middle\" x=\"185.5\" y=\"-22.8\" font-family=\"Times,serif\" font-size=\"14.00\" fill=\"#000000\">samples = 31</text>\n<text text-anchor=\"middle\" x=\"185.5\" y=\"-7.8\" font-family=\"Times,serif\" font-size=\"14.00\" fill=\"#000000\">value = 169.387</text>\n</g>\n<!-- 1&#45;&gt;3 -->\n<g id=\"edge3\" class=\"edge\">\n<title>1&#45;&gt;3</title>\n<path fill=\"none\" stroke=\"#000000\" d=\"M185.5,-88.9777C185.5,-80.7364 185.5,-71.887 185.5,-63.5153\"/>\n<polygon fill=\"#000000\" stroke=\"#000000\" points=\"189.0001,-63.2484 185.5,-53.2485 182.0001,-63.2485 189.0001,-63.2484\"/>\n</g>\n<!-- 5 -->\n<g id=\"node6\" class=\"node\">\n<title>5</title>\n<polygon fill=\"none\" stroke=\"#000000\" points=\"371.5,-53 259.5,-53 259.5,0 371.5,0 371.5,-53\"/>\n<text text-anchor=\"middle\" x=\"315.5\" y=\"-37.8\" font-family=\"Times,serif\" font-size=\"14.00\" fill=\"#000000\">mse = 4680.021</text>\n<text text-anchor=\"middle\" x=\"315.5\" y=\"-22.8\" font-family=\"Times,serif\" font-size=\"14.00\" fill=\"#000000\">samples = 158</text>\n<text text-anchor=\"middle\" x=\"315.5\" y=\"-7.8\" font-family=\"Times,serif\" font-size=\"14.00\" fill=\"#000000\">value = 182.272</text>\n</g>\n<!-- 4&#45;&gt;5 -->\n<g id=\"edge5\" class=\"edge\">\n<title>4&#45;&gt;5</title>\n<path fill=\"none\" stroke=\"#000000\" d=\"M315.5,-88.9777C315.5,-80.7364 315.5,-71.887 315.5,-63.5153\"/>\n<polygon fill=\"#000000\" stroke=\"#000000\" points=\"319.0001,-63.2484 315.5,-53.2485 312.0001,-63.2485 319.0001,-63.2484\"/>\n</g>\n<!-- 6 -->\n<g id=\"node7\" class=\"node\">\n<title>6</title>\n<polygon fill=\"none\" stroke=\"#000000\" points=\"501,-53 390,-53 390,0 501,0 501,-53\"/>\n<text text-anchor=\"middle\" x=\"445.5\" y=\"-37.8\" font-family=\"Times,serif\" font-size=\"14.00\" fill=\"#000000\">mse = 1872.617</text>\n<text text-anchor=\"middle\" x=\"445.5\" y=\"-22.8\" font-family=\"Times,serif\" font-size=\"14.00\" fill=\"#000000\">samples = 27</text>\n<text text-anchor=\"middle\" x=\"445.5\" y=\"-7.8\" font-family=\"Times,serif\" font-size=\"14.00\" fill=\"#000000\">value = 271.111</text>\n</g>\n<!-- 4&#45;&gt;6 -->\n<g id=\"edge6\" class=\"edge\">\n<title>4&#45;&gt;6</title>\n<path fill=\"none\" stroke=\"#000000\" d=\"M361.3331,-88.9777C374.2857,-79.3629 388.3535,-68.9203 401.2133,-59.3743\"/>\n<polygon fill=\"#000000\" stroke=\"#000000\" points=\"403.5224,-62.0193 409.4658,-53.2485 399.3501,-56.3986 403.5224,-62.0193\"/>\n</g>\n</g>\n</svg>\n"
          },
          "metadata": {
            "tags": []
          },
          "execution_count": 77
        }
      ]
    },
    {
      "cell_type": "code",
      "metadata": {
        "id": "syQrmSmo5_QF"
      },
      "source": [
        "# Answer the questions: \n",
        "\n",
        "'''\n",
        "1. What is the most important indicator that indicate diabetes?\n",
        "'''\n",
        "\n",
        "'''\n",
        "Your answer goes here: \n",
        "\n",
        "BMI seems to be the best idicator for diabetes.\n",
        "\n",
        "\n",
        "'''"
      ],
      "execution_count": null,
      "outputs": []
    },
    {
      "cell_type": "markdown",
      "metadata": {
        "id": "vdxWfuuyY1Dq"
      },
      "source": [
        "### 4. Decision Tree with Bagging \n",
        "---\n",
        "\n",
        "\n",
        "\n",
        "---"
      ]
    },
    {
      "cell_type": "markdown",
      "metadata": {
        "id": "yxz6aKA462cJ"
      },
      "source": [
        "***EXERCISE NO. 4.1 | Score :10***"
      ]
    },
    {
      "cell_type": "code",
      "metadata": {
        "id": "4k5vN-ME7MWr",
        "colab": {
          "base_uri": "https://localhost:8080/"
        },
        "outputId": "643a328d-68b1-4114-af06-de305035ff4a"
      },
      "source": [
        "# https://scikit-learn.org/stable/modules/generated/sklearn.ensemble.BaggingRegressor.html\n",
        "\n",
        "from sklearn.ensemble import BaggingRegressor\n",
        "\n",
        "# Use BaggingRegressor to fit the training data\n",
        "# Calculate the mean squared error \n",
        "\n",
        "#load BaggingRegressor model and pass n_estimators=20, random_state=1\n",
        "bagged_regr = BaggingRegressor(n_estimators = 20, random_state = 1)\n",
        "bagged_regr.fit(regXtrain, regYtrain)\n",
        "pred = bagged_regr.predict(regXtest)\n",
        "mean_squared_error(regYtest, pred)"
      ],
      "execution_count": null,
      "outputs": [
        {
          "output_type": "execute_result",
          "data": {
            "text/plain": [
              "3304.719831460674"
            ]
          },
          "metadata": {
            "tags": []
          },
          "execution_count": 78
        }
      ]
    },
    {
      "cell_type": "code",
      "metadata": {
        "id": "1LlLTlGv97Fn",
        "colab": {
          "base_uri": "https://localhost:8080/",
          "height": 312
        },
        "outputId": "40028da9-429d-4dac-929f-0b9ae9d3fa74"
      },
      "source": [
        "#Plot the best regression model prediction scatter points \n",
        "plt.scatter(pred, \n",
        "            regYtest, \n",
        "            label = 'medv')\n",
        "\n",
        "plt.plot([0, 1], \n",
        "         [0, 1], \n",
        "         '--k', \n",
        "         transform = plt.gca().transAxes)\n",
        "\n",
        "plt.xlabel('pred')\n",
        "plt.ylabel('y_test')"
      ],
      "execution_count": null,
      "outputs": [
        {
          "output_type": "execute_result",
          "data": {
            "text/plain": [
              "Text(0, 0.5, 'y_test')"
            ]
          },
          "metadata": {
            "tags": []
          },
          "execution_count": 79
        },
        {
          "output_type": "display_data",
          "data": {
            "image/png": "[encoded data removed]",
            "text/plain": [
              "<Figure size 432x288 with 1 Axes>"
            ]
          },
          "metadata": {
            "tags": [],
            "needs_background": "light"
          }
        }
      ]
    },
    {
      "cell_type": "code",
      "metadata": {
        "id": "CFLIsYwCIagu"
      },
      "source": [
        "# Answer the following questions: \n",
        "'''\n",
        "1. Does Begging improve the MSE(mean squared error) from a single decision tree with best max_depth, and why? \n",
        "2. Comparing to the single decision tree scatter plot, what do you observed from the begging decision trees scatter plot?  \n",
        "'''\n",
        "\n",
        "'''\n",
        "Your answer goes here: \n",
        "1. Begging improves the MSE, because the error is lower than then single decision tree MSE.\n",
        "\n",
        "2. The single decision tree is more uniform than the begging decision tree.\n",
        "'''"
      ],
      "execution_count": null,
      "outputs": []
    },
    {
      "cell_type": "markdown",
      "metadata": {
        "id": "xzh2bdcQY1F9"
      },
      "source": [
        "### 5. Random Forest \n",
        "---\n",
        "\n",
        "\n",
        "\n",
        "---"
      ]
    },
    {
      "cell_type": "markdown",
      "metadata": {
        "id": "_bZA30g2EnLG"
      },
      "source": [
        "***EXERCISE NO. 5.1 | Score :10***"
      ]
    },
    {
      "cell_type": "code",
      "metadata": {
        "id": "e07em325-uPg",
        "colab": {
          "base_uri": "https://localhost:8080/"
        },
        "outputId": "79882065-31d1-4dec-d295-6769cd79880d"
      },
      "source": [
        "# https://scikit-learn.org/stable/modules/generated/sklearn.ensemble.RandomForestRegressor.html\n",
        "\n",
        "from sklearn.ensemble import RandomForestRegressor\n",
        "\n",
        "# Use RandomForestRegressor to fit the training data\n",
        "# Calculate the mean squared error \n",
        "\n",
        "# load RandomForestRegressor model and pass max_features=6, n_estimater=20, random_state=1\n",
        "random_forest_regr = RandomForestRegressor(max_features= 6, n_estimators = 20, random_state= 1)\n",
        "random_forest_regr.fit(regXtrain, regYtrain)\n",
        "pred = random_forest_regr.predict(regXtest)\n",
        "\n",
        "mean_squared_error(regYtest, pred)"
      ],
      "execution_count": null,
      "outputs": [
        {
          "output_type": "execute_result",
          "data": {
            "text/plain": [
              "3096.695421348315"
            ]
          },
          "metadata": {
            "tags": []
          },
          "execution_count": 84
        }
      ]
    },
    {
      "cell_type": "code",
      "metadata": {
        "id": "7eaECscY_TXX",
        "colab": {
          "base_uri": "https://localhost:8080/",
          "height": 295
        },
        "outputId": "010b4b0d-bbdf-4193-de65-8464c804400a"
      },
      "source": [
        "# Plot the importance rank of each feature in the diabeties dataset \n",
        "import pandas as pd\n",
        "Importance = pd.DataFrame({'Importance':random_forest_regr.feature_importances_*100}, \n",
        "                          index = diabetes.feature_names)\n",
        "\n",
        "Importance.sort_values(by = 'Importance', \n",
        "                       axis = 0, \n",
        "                       ascending = True).plot(kind = 'barh', \n",
        "                                              color = 'r', )\n",
        "\n",
        "plt.xlabel('Variable Importance')\n",
        "plt.gca().legend_ = None"
      ],
      "execution_count": null,
      "outputs": [
        {
          "output_type": "display_data",
          "data": {
            "image/png": "[encoded data removed]",
            "text/plain": [
              "<Figure size 432x288 with 1 Axes>"
            ]
          },
          "metadata": {
            "tags": [],
            "needs_background": "light"
          }
        }
      ]
    },
    {
      "cell_type": "code",
      "metadata": {
        "id": "bDKV8KXYLGv_"
      },
      "source": [
        "#Answer the following questions: \n",
        "'''\n",
        "1. Does Random Forest improve the MSE(mean squared error) from a single decision tree with best max_depth and Bagging, and why? \n",
        "2. What is the most important indicator that indicate diabetes?\n",
        "'''\n",
        "\n",
        "'''\n",
        "Your answer goes here: \n",
        "\n",
        "1. Random Forest does improve the MSE because the error is lower than the\n",
        "max_depth but not Bagging, so the MSE is not improve. \n",
        "\n",
        "2. BMI is rhe most important indicator of diabetes.\n",
        "\n",
        "'''"
      ],
      "execution_count": null,
      "outputs": []
    },
    {
      "cell_type": "markdown",
      "metadata": {
        "id": "7TgLnUJGY1Ih"
      },
      "source": [
        "### 6. Boosting \n",
        "---\n",
        "\n",
        "\n",
        "\n",
        "---"
      ]
    },
    {
      "cell_type": "markdown",
      "metadata": {
        "id": "flXysNmAEqeP"
      },
      "source": [
        "***EXERCISE NO. 6.1 | Score :10***"
      ]
    },
    {
      "cell_type": "code",
      "metadata": {
        "id": "UzZFM0tH_s7J",
        "colab": {
          "base_uri": "https://localhost:8080/"
        },
        "outputId": "d15f3c2e-0e13-4682-8fb8-97e9d239e32e"
      },
      "source": [
        "# https://scikit-learn.org/stable/modules/generated/sklearn.ensemble.GradientBoostingRegressor.html\n",
        "from sklearn.ensemble import GradientBoostingRegressor\n",
        "\n",
        "# Use GradientBoostingRegressor to fit the training data\n",
        "# Calculate the mean squared error \n",
        "\n",
        "# load GradientBoostingRegressor model and pass n_estimators = 500, learning_rate = 0.01, max_depth = 2, random_state = 1\n",
        "boosted_regr = GradientBoostingRegressor(n_estimators = 500, learning_rate = 0.01, max_depth = 2, random_state = 1)\n",
        "boosted_regr.fit(regXtrain, regYtrain)\n",
        "pred = boosted_regr.predict(regXtest)\n",
        "\n",
        "mean_squared_error(regYtest, pred)"
      ],
      "execution_count": null,
      "outputs": [
        {
          "output_type": "execute_result",
          "data": {
            "text/plain": [
              "2778.1976500450855"
            ]
          },
          "metadata": {
            "tags": []
          },
          "execution_count": 92
        }
      ]
    },
    {
      "cell_type": "code",
      "metadata": {
        "id": "O8lnzWrd_tOe",
        "colab": {
          "base_uri": "https://localhost:8080/",
          "height": 295
        },
        "outputId": "8b158703-61cd-4dfc-b52e-a454a63ed09d"
      },
      "source": [
        "feature_importance = boosted_regr.feature_importances_*100\n",
        "\n",
        "rel_imp = pd.Series(feature_importance, \n",
        "                    index = diabetes.feature_names).sort_values(inplace = False)\n",
        "\n",
        "rel_imp.T.plot(kind = 'barh', \n",
        "               color = 'r', )\n",
        "\n",
        "plt.xlabel('Variable Importance')\n",
        "\n",
        "plt.gca().legend_ = None"
      ],
      "execution_count": null,
      "outputs": [
        {
          "output_type": "display_data",
          "data": {
            "image/png": "[encoded data removed]",
            "text/plain": [
              "<Figure size 432x288 with 1 Axes>"
            ]
          },
          "metadata": {
            "tags": [],
            "needs_background": "light"
          }
        }
      ]
    },
    {
      "cell_type": "code",
      "metadata": {
        "id": "3mS2j6CCAGpm"
      },
      "source": [
        "#Answer the following questions: \n",
        "'''\n",
        "1. Does Boosting improve the MSE(mean squared error) from a single decision tree with best max_depth, Bagging, and Random Forest, and why? \n",
        "2. What is the most important indicator that indicate diabetes?\n",
        "'''\n",
        "\n",
        "'''\n",
        "Your answer goes here: \n",
        "\n",
        "1. Boosting improves the MSE the most out of max_depth, Bagging, and Random Forest because the MSE is significantly smaller than everyone\n",
        "else's. \n",
        "\n",
        "2. s5 is the most important indicator of diabetes.\n",
        "\n",
        "'''"
      ],
      "execution_count": null,
      "outputs": []
    },
    {
      "cell_type": "code",
      "metadata": {
        "id": "JnvLQJK9YFyI"
      },
      "source": [
        ""
      ],
      "execution_count": null,
      "outputs": []
    }
  ]
}